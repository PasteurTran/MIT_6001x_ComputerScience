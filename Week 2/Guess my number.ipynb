{
 "cells": [
  {
   "cell_type": "code",
   "execution_count": 7,
   "metadata": {
    "collapsed": false
   },
   "outputs": [
    {
     "name": "stdout",
     "output_type": "stream",
     "text": [
      "Please think of a number between 0 and 100!\n",
      "Is your secret number: 50\n",
      "Enter 'h' to indicate the guess is too high. Enter 'l' to indicate the guess is too low. Enter 'c' to indicate I guessed correctly. l\n",
      "Is your secret number: 25\n",
      "Enter 'h' to indicate the guess is too high. Enter 'l' to indicate the guess is too low. Enter 'c' to indicate I guessed correctly. h\n",
      "Is your secret number: 37\n",
      "Enter 'h' to indicate the guess is too high. Enter 'l' to indicate the guess is too low. Enter 'c' to indicate I guessed correctly. h\n",
      "Is your secret number: 43\n",
      "Enter 'h' to indicate the guess is too high. Enter 'l' to indicate the guess is too low. Enter 'c' to indicate I guessed correctly. c\n",
      "Game over. Your secret number was: 43\n"
     ]
    }
   ],
   "source": [
    "# Introduction \n",
    "print(\"Please think of a number between 0 and 100!\")\n",
    "high = 100\n",
    "low = 0\n",
    "guess = 50\n",
    "response = \"\"\n",
    "guessedplayersnumber = False\n",
    "\n",
    "while guessedplayersnumber == False:\n",
    "    print(\"Is your secret number: \" + str(guess))\n",
    "    response = input(\"Enter 'h' to indicate the guess is too high. Enter 'l' to indicate the guess is too low. Enter 'c' to indicate I guessed correctly. \") \n",
    "    if(response == 'h'):\n",
    "        #bisection forward\n",
    "        high = guess\n",
    "        guess = int((high + low)/2)   \n",
    "        continue\n",
    "        \n",
    "    elif(response =='l'):\n",
    "        #bisection backwards\n",
    "        low = guess\n",
    "        guess = int((high + low)/2)  \n",
    "        continue\n",
    "        \n",
    "    elif(response =='c'):\n",
    "        #We got it\n",
    "        guessedplayersnumber = True\n",
    "        break\n",
    "        \n",
    "    else:\n",
    "        print(\"Sorry, I did not understand your input.\")\n",
    "        continue\n",
    "\n",
    "print(\"Game over. Your secret number was: \" + str(guess))"
   ]
  },
  {
   "cell_type": "code",
   "execution_count": null,
   "metadata": {
    "collapsed": true
   },
   "outputs": [],
   "source": []
  }
 ],
 "metadata": {
  "kernelspec": {
   "display_name": "Python 3",
   "language": "python",
   "name": "python3"
  },
  "language_info": {
   "codemirror_mode": {
    "name": "ipython",
    "version": 3
   },
   "file_extension": ".py",
   "mimetype": "text/x-python",
   "name": "python",
   "nbconvert_exporter": "python",
   "pygments_lexer": "ipython3",
   "version": "3.6.0"
  }
 },
 "nbformat": 4,
 "nbformat_minor": 2
}
