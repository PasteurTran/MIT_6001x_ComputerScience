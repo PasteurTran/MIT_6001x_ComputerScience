{
 "cells": [
  {
   "cell_type": "code",
   "execution_count": 1,
   "metadata": {
    "collapsed": true
   },
   "outputs": [],
   "source": [
    "def gcdIter(a, b):\n",
    "    '''\n",
    "    a, b: positive integers\n",
    "    \n",
    "    returns: a positive integer, the greatest common divisor of a & b.\n",
    "    '''\n",
    "    # Your code here\n",
    "    c = min(a,b)\n",
    "            \n",
    "    while True and c > 1:\n",
    "        if a % c == 0 and b % c == 0:\n",
    "            break\n",
    "        else:\n",
    "            c -= 1\n",
    "    return c"
   ]
  },
  {
   "cell_type": "code",
   "execution_count": 2,
   "metadata": {
    "collapsed": true
   },
   "outputs": [],
   "source": [
    "def gcdRecur(a, b):\n",
    "    '''\n",
    "    a, b: positive integers\n",
    "    \n",
    "    returns: a positive integer, the greatest common divisor of a & b.\n",
    "    6,14\n",
    "    a  b  a%b\n",
    "    14%6 = 8\n",
    "    a%b b \n",
    "    8%6 = 2\n",
    "    6%2 = 0\n",
    "    Therefore 2 is the answer\n",
    "    \n",
    "    '''\n",
    "    # Your code here\n",
    "    \"\"\"\n",
    "    So with Euclidean - multiples of the number i.e. modulo of a number is done until a remainder rmeains\n",
    "    so a % b == x\n",
    "    with x, you do the modulu to b \n",
    "    b % x = y\n",
    "    then\n",
    "    x % y =z\n",
    "    The algo ens once z in this case, becomes 0\n",
    "    \"\"\"\n",
    "    if b == 0:\n",
    "        return a\n",
    "    else:\n",
    "        return gcdRecur(b, a%b)\n",
    "    \n",
    "    "
   ]
  },
  {
   "cell_type": "code",
   "execution_count": 6,
   "metadata": {
    "collapsed": false
   },
   "outputs": [
    {
     "data": {
      "text/plain": [
       "6"
      ]
     },
     "execution_count": 6,
     "metadata": {},
     "output_type": "execute_result"
    }
   ],
   "source": [
    "gcdRecur(6,36)"
   ]
  },
  {
   "cell_type": "code",
   "execution_count": null,
   "metadata": {
    "collapsed": true
   },
   "outputs": [],
   "source": []
  }
 ],
 "metadata": {
  "kernelspec": {
   "display_name": "Python 3",
   "language": "python",
   "name": "python3"
  },
  "language_info": {
   "codemirror_mode": {
    "name": "ipython",
    "version": 3
   },
   "file_extension": ".py",
   "mimetype": "text/x-python",
   "name": "python",
   "nbconvert_exporter": "python",
   "pygments_lexer": "ipython3",
   "version": "3.6.0"
  }
 },
 "nbformat": 4,
 "nbformat_minor": 2
}
