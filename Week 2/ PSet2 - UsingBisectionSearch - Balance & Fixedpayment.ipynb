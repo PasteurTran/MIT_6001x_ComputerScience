{
 "cells": [
  {
   "cell_type": "code",
   "execution_count": 3,
   "metadata": {
    "collapsed": false
   },
   "outputs": [
    {
     "name": "stdout",
     "output_type": "stream",
     "text": [
      "Remaining balance: 31.38\n"
     ]
    }
   ],
   "source": [
    "def balancecalculator(balance, annualInterestRate,monthlyPaymentRate):\n",
    "    \"\"\"\n",
    "    Test Case 1:\n",
    "    balance = 42\n",
    "    annualInterestRate = 0.2\n",
    "    monthlyPaymentRate = 0.04\n",
    "    # Result Your Code Should Generate Below:\n",
    "    Remaining balance: 31.38\n",
    "    \n",
    "    Test Case 2:\n",
    "    balance = 484\n",
    "    annualInterestRate = 0.2\n",
    "    monthlyPaymentRate = 0.04\n",
    "\n",
    "    Result Your Code Should Generate Below:\n",
    "    Remaining balance: 361.61\n",
    "    \"\"\"\n",
    "    monthlyinterestrate = annualInterestRate/12.0\n",
    "    #minimummonthlypay = monthlyPaymentRate * balancepreivous\n",
    "    #monthlyunpaidbalance = balancepreivous - minimummonthlypay\n",
    "    #updatedbalance = monthlyunpaidbalance + (monthlyinterestrate * monthlyunpaidbalance)\n",
    "    \n",
    "    i = 0\n",
    "    while i < 12:\n",
    "        minimummonthlypay = balance * monthlyPaymentRate\n",
    "        monthlyunpaidbalance = balance - minimummonthlypay\n",
    "        balance = monthlyunpaidbalance + (monthlyinterestrate * monthlyunpaidbalance)\n",
    "        i = i + 1\n",
    "        \n",
    "    print(\"Remaining balance: \" + \"%.2f\" % round(balance,2))\n",
    "\n",
    "balancecalculator(42,0.2,0.04)\n",
    "        "
   ]
  },
  {
   "cell_type": "code",
   "execution_count": 4,
   "metadata": {
    "collapsed": true
   },
   "outputs": [],
   "source": [
    "def fixedpayment(balance, annualInterestRate):\n",
    "    \"\"\"\n",
    "    Test Case 1:\n",
    "\t      balance = 3329\n",
    "\t      annualInterestRate = 0.2\n",
    "\n",
    "\t      Result Your Code Should Generate:\n",
    "\t      -------------------\n",
    "\t      Lowest Payment: 310\n",
    "          \n",
    "    \n",
    "    Test Case 2:\n",
    "\t      balance = 4773\n",
    "\t      annualInterestRate = 0.2\n",
    "\t      \n",
    "\t      Result Your Code Should Generate:\n",
    "\t      -------------------\n",
    "\t      Lowest Payment: 440\n",
    "    \"\"\"\n",
    "    \n",
    "    monthlyinterestrate = annualInterestRate/12.0\n",
    "    #monthlyunpaid  = balance - minfixedmonth\n",
    "    #balance = monthlyunpaid + (monthlyinterestrate * monthlyunpaid)\n",
    "    \n",
    "    #We know it must be done in 12 cycles - we want minfixedmonth returned\n",
    "    #We want the balance to be 0 at the end of 12 cycles\n",
    "    storedbalance = balance\n",
    "    i = 0\n",
    "    guessedfixedmonth = 10\n",
    "    foundLowestPayment = False\n",
    "    \n",
    "    while not foundLowestPayment:\n",
    "        while i < 12:\n",
    "            monthlyunpaid  = balance - guessedfixedmonth\n",
    "            balance = monthlyunpaid + (monthlyinterestrate * monthlyunpaid)\n",
    "            i = i + 1\n",
    "        if(balance <= 0):\n",
    "            # we found it\n",
    "            foundLowestPayment = True\n",
    "        else:\n",
    "            balance = storedbalance\n",
    "            i = 0\n",
    "            guessedfixedmonth = guessedfixedmonth + 10\n",
    "    \n",
    "    return guessedfixedmonth\n",
    "        \n",
    "    \n",
    "\n",
    "    \n",
    "    "
   ]
  },
  {
   "cell_type": "code",
   "execution_count": 5,
   "metadata": {
    "collapsed": false
   },
   "outputs": [
    {
     "data": {
      "text/plain": [
       "310"
      ]
     },
     "execution_count": 5,
     "metadata": {},
     "output_type": "execute_result"
    }
   ],
   "source": [
    "fixedpayment(3329,0.2)"
   ]
  },
  {
   "cell_type": "code",
   "execution_count": 6,
   "metadata": {
    "collapsed": false
   },
   "outputs": [
    {
     "data": {
      "text/plain": [
       "440"
      ]
     },
     "execution_count": 6,
     "metadata": {},
     "output_type": "execute_result"
    }
   ],
   "source": [
    "fixedpayment(4773,0.2)"
   ]
  },
  {
   "cell_type": "code",
   "execution_count": 28,
   "metadata": {
    "collapsed": false
   },
   "outputs": [],
   "source": [
    "def bisectionBalance(balance, annualInterestRate):\n",
    "    \n",
    "    #MIT Bisection Search for monhtly interestrate\n",
    "    monthlyinterestrate = annualInterestRate/12.0\n",
    "    \n",
    "    storedbalance = balance\n",
    "    i = 0\n",
    "    guessedfixedmonth = balance/2.0\n",
    "    foundLowestPayment = False\n",
    "    \n",
    "    # We set these based on obvious - as paying off the balance would be definitely top\n",
    "    top = balance * (1+ monthlyinterestrate**12)/12.0\n",
    "    bottom = balance/12\n",
    "    \n",
    "    while not foundLowestPayment:\n",
    "        while i < 12:\n",
    "            monthlyunpaid  = balance - guessedfixedmonth\n",
    "            balance = monthlyunpaid + (monthlyinterestrate * monthlyunpaid)\n",
    "            i = i + 1\n",
    "            \n",
    "        if(abs(balance) < 0.01):\n",
    "            # we found it\n",
    "            foundLowestPayment = True\n",
    "        elif(balance > 0.01):\n",
    "            balance = storedbalance\n",
    "            i = 0\n",
    "            ##Here we need to usebisection upwards\n",
    "            bottom = guessedfixedmonth\n",
    "            guessedfixedmonth = (top + bottom)/2.0\n",
    "            \n",
    "        elif(balance < -0.01):\n",
    "            balance = storedbalance\n",
    "            i = 0\n",
    "            ##Here we need to usebisection upwards\n",
    "            top = guessedfixedmonth\n",
    "            guessedfixedmonth = (top + bottom)/2.0\n",
    "            \n",
    "    print (\"Lowest payment: {0:.2f}\".format(guessedfixedmonth))\n",
    "        "
   ]
  },
  {
   "cell_type": "code",
   "execution_count": 29,
   "metadata": {
    "collapsed": false
   },
   "outputs": [
    {
     "name": "stdout",
     "output_type": "stream",
     "text": [
      "Lowest payment: 29157.09\n"
     ]
    }
   ],
   "source": [
    "bisectionBalance(320000,0.2)"
   ]
  },
  {
   "cell_type": "code",
   "execution_count": 30,
   "metadata": {
    "collapsed": false
   },
   "outputs": [
    {
     "name": "stdout",
     "output_type": "stream",
     "text": [
      "Lowest payment: 90325.03\n"
     ]
    }
   ],
   "source": [
    "bisectionBalance(999999,0.18)"
   ]
  },
  {
   "cell_type": "code",
   "execution_count": null,
   "metadata": {
    "collapsed": true
   },
   "outputs": [],
   "source": []
  }
 ],
 "metadata": {
  "kernelspec": {
   "display_name": "Python 3",
   "language": "python",
   "name": "python3"
  },
  "language_info": {
   "codemirror_mode": {
    "name": "ipython",
    "version": 3
   },
   "file_extension": ".py",
   "mimetype": "text/x-python",
   "name": "python",
   "nbconvert_exporter": "python",
   "pygments_lexer": "ipython3",
   "version": "3.6.0"
  }
 },
 "nbformat": 4,
 "nbformat_minor": 2
}
