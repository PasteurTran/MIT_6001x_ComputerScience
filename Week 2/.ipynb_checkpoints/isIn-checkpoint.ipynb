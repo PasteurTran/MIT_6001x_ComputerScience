{
 "cells": [
  {
   "cell_type": "code",
   "execution_count": 22,
   "metadata": {
    "collapsed": false
   },
   "outputs": [],
   "source": [
    "def isIn(char, aStr):\n",
    "    '''\n",
    "    char: a single character\n",
    "    aStr: an alphabetized string\n",
    "    \n",
    "    returns: True if char is in aStr; False otherwise\n",
    "    >>> isIn('k','hello)\n",
    "    False\n",
    "    >>> isIn('j','hejkoqsu')\n",
    "    True\n",
    "    '''\n",
    "    \n",
    "   \n",
    "    if(aStr == \"\"):\n",
    "        return False\n",
    "    if(len(aStr) == 1):\n",
    "        #Means the character must be it or not\n",
    "        if char == aStr:\n",
    "            return True\n",
    "        else:\n",
    "            return False\n",
    "        \n",
    "    middlechar = aStr[len(aStr)//2-1]\n",
    "    if char == middlechar:\n",
    "        #We found it\n",
    "        return True\n",
    "    elif char > middlechar:\n",
    "        #Consider only top half\n",
    "        return isIn(char,aStr[len(aStr)//2:])\n",
    "    \n",
    "    elif char < middlechar:\n",
    "        #Consider only bottom half\n",
    "        return isIn(char,aStr[:len(aStr)//2-1])\n",
    "    else:\n",
    "        return False\n",
    "    \n",
    "    \n"
   ]
  },
  {
   "cell_type": "code",
   "execution_count": 23,
   "metadata": {
    "collapsed": false
   },
   "outputs": [
    {
     "data": {
      "text/plain": [
       "True"
      ]
     },
     "execution_count": 23,
     "metadata": {},
     "output_type": "execute_result"
    }
   ],
   "source": [
    "isIn('s','hejkoqsu')"
   ]
  },
  {
   "cell_type": "code",
   "execution_count": null,
   "metadata": {
    "collapsed": true
   },
   "outputs": [],
   "source": []
  },
  {
   "cell_type": "code",
   "execution_count": null,
   "metadata": {
    "collapsed": true
   },
   "outputs": [],
   "source": []
  }
 ],
 "metadata": {
  "kernelspec": {
   "display_name": "Python 3",
   "language": "python",
   "name": "python3"
  },
  "language_info": {
   "codemirror_mode": {
    "name": "ipython",
    "version": 3
   },
   "file_extension": ".py",
   "mimetype": "text/x-python",
   "name": "python",
   "nbconvert_exporter": "python",
   "pygments_lexer": "ipython3",
   "version": "3.6.0"
  }
 },
 "nbformat": 4,
 "nbformat_minor": 2
}
