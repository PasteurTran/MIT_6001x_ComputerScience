{
 "cells": [
  {
   "cell_type": "code",
   "execution_count": 3,
   "metadata": {
    "collapsed": false
   },
   "outputs": [
    {
     "name": "stdout",
     "output_type": "stream",
     "text": [
      "Number of vowels: 5\n"
     ]
    }
   ],
   "source": [
    "\"\"\"\n",
    "Assume s is a string of lower case characters.\n",
    "Write a program that counts up the number of vowels contained in the string s. \n",
    "Valid vowels are: 'a', 'e', 'i', 'o', and 'u'. \n",
    "For example, if s = 'azcbobobegghakl', your program should print:\n",
    "\"\"\"\n",
    "s = 'azcbobobegghakl'\n",
    "\n",
    "counter = 0 \n",
    "for letters in s:\n",
    "    if letters == \"a\" or letters == \"e\" or letters == \"i\" or letters == \"o\" or letters == \"u\":\n",
    "        counter = counter +1\n",
    "print (\"Number of vowels: \" + str(counter))"
   ]
  },
  {
   "cell_type": "code",
   "execution_count": 11,
   "metadata": {
    "collapsed": false
   },
   "outputs": [
    {
     "name": "stdout",
     "output_type": "stream",
     "text": [
      "Number of times bob occurs is: 6\n"
     ]
    }
   ],
   "source": [
    "\"\"\"\n",
    "Assume s is a string of lower case characters.\n",
    "Write a program that prints the number of times the string 'bob' occurs in s. \n",
    "For example, if s = 'azcbobobegghakl', then your program should print\n",
    "\"\"\"\n",
    "s = 'bobbbobbjobobosboqhbobbbobbobiob'\n",
    "\n",
    "counter = 0\n",
    "i = 0\n",
    "for letters in s:\n",
    "    if letters == \"b\":\n",
    "        #Begin count\n",
    "        if i + 2 < len(s): #you need this to test for any issues checking future index\n",
    "            if s[i+1] == \"o\":\n",
    "                if s[i+2] == \"b\":\n",
    "                    counter = counter + 1\n",
    "    i = i + 1\n",
    "print (\"Number of times bob occurs is: \" + str(counter))"
   ]
  },
  {
   "cell_type": "code",
   "execution_count": 25,
   "metadata": {
    "collapsed": false
   },
   "outputs": [
    {
     "name": "stdout",
     "output_type": "stream",
     "text": [
      "True\n"
     ]
    }
   ],
   "source": [
    "print (\"j\" > \"a\")"
   ]
  },
  {
   "cell_type": "code",
   "execution_count": 26,
   "metadata": {
    "collapsed": false
   },
   "outputs": [
    {
     "name": "stdout",
     "output_type": "stream",
     "text": [
      "2\n"
     ]
    }
   ],
   "source": [
    "print (len(\"he\"))"
   ]
  },
  {
   "cell_type": "code",
   "execution_count": 66,
   "metadata": {
    "collapsed": false
   },
   "outputs": [
    {
     "name": "stdout",
     "output_type": "stream",
     "text": [
      "Longest substring in alphabetical order is: beggh\n"
     ]
    }
   ],
   "source": [
    "\"\"\"\n",
    "Longest alphabetical order words\n",
    "s = 'azcbobobegghakl',\n",
    "Longest substring in alphabetical order is: beggh\n",
    "s = 'abcbcd'\n",
    "Longest substring in alphabetical order is: abc\n",
    "\"\"\"\n",
    "s = 'azcbobobegghakl'\n",
    "\n",
    "string = \"\"\n",
    "longestString = \"\"\n",
    "count = 0\n",
    "longestCount = 0\n",
    "\n",
    "for i in range(len(s)):\n",
    "    \n",
    "    #Default case\n",
    "    if i == 0:\n",
    "        string += s[i]\n",
    "        count += 1\n",
    "        \n",
    "    # Remember letters later in alphabet are 'greater than'\n",
    "    elif s[i] >= s[i - 1]:\n",
    "        string += s[i]\n",
    "        count += 1\n",
    "        \n",
    "    # If letter is less, we will need to reset \n",
    "    elif s[i] < s[i - 1]:\n",
    "        if count > longestCount:\n",
    "            longestCount = count\n",
    "            longestString = string   \n",
    "        count = 1\n",
    "        string = \"\" #have to make sure string is empty to reset\n",
    "        string += s[i]\n",
    "\n",
    "    if i == len(s) - 1: #means we hit the end\n",
    "        if count > 1: \n",
    "            if count > longestCount:\n",
    "                longestCount = count\n",
    "                longestString = string\n",
    "print(\"Longest substring in alphabetical order is: \" + longestString)\n"
   ]
  },
  {
   "cell_type": "code",
   "execution_count": null,
   "metadata": {
    "collapsed": true
   },
   "outputs": [],
   "source": []
  }
 ],
 "metadata": {
  "kernelspec": {
   "display_name": "Python 3",
   "language": "python",
   "name": "python3"
  },
  "language_info": {
   "codemirror_mode": {
    "name": "ipython",
    "version": 3
   },
   "file_extension": ".py",
   "mimetype": "text/x-python",
   "name": "python",
   "nbconvert_exporter": "python",
   "pygments_lexer": "ipython3",
   "version": "3.6.0"
  }
 },
 "nbformat": 4,
 "nbformat_minor": 2
}
